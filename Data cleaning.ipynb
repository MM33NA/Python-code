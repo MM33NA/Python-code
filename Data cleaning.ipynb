{
 "cells": [
  {
   "cell_type": "code",
   "execution_count": 1,
   "id": "a4461f47",
   "metadata": {},
   "outputs": [],
   "source": [
    "import pandas as pd\n",
    "import numpy as np\n",
    "import statistics as st"
   ]
  },
  {
   "cell_type": "code",
   "execution_count": 36,
   "id": "7f86c116",
   "metadata": {},
   "outputs": [],
   "source": [
    "mydata=pd.read_excel(\"../data/Olympics.xlsx\")"
   ]
  },
  {
   "cell_type": "code",
   "execution_count": 37,
   "id": "a7a4f8c8",
   "metadata": {},
   "outputs": [
    {
     "data": {
      "text/html": [
       "<div>\n",
       "<style scoped>\n",
       "    .dataframe tbody tr th:only-of-type {\n",
       "        vertical-align: middle;\n",
       "    }\n",
       "\n",
       "    .dataframe tbody tr th {\n",
       "        vertical-align: top;\n",
       "    }\n",
       "\n",
       "    .dataframe thead th {\n",
       "        text-align: right;\n",
       "    }\n",
       "</style>\n",
       "<table border=\"1\" class=\"dataframe\">\n",
       "  <thead>\n",
       "    <tr style=\"text-align: right;\">\n",
       "      <th></th>\n",
       "      <th>ID</th>\n",
       "      <th>Name</th>\n",
       "      <th>Sex</th>\n",
       "      <th>Age</th>\n",
       "      <th>Height</th>\n",
       "      <th>Weight</th>\n",
       "      <th>Team</th>\n",
       "      <th>NOC</th>\n",
       "      <th>Games</th>\n",
       "      <th>Year</th>\n",
       "      <th>Season</th>\n",
       "      <th>City</th>\n",
       "      <th>Sport</th>\n",
       "      <th>Event</th>\n",
       "      <th>Medal</th>\n",
       "    </tr>\n",
       "  </thead>\n",
       "  <tbody>\n",
       "    <tr>\n",
       "      <th>0</th>\n",
       "      <td>2</td>\n",
       "      <td>A Lamusi</td>\n",
       "      <td>M</td>\n",
       "      <td>23</td>\n",
       "      <td>170.0</td>\n",
       "      <td>60.0</td>\n",
       "      <td>China</td>\n",
       "      <td>CHN</td>\n",
       "      <td>2012 Summer</td>\n",
       "      <td>2012</td>\n",
       "      <td>Summer</td>\n",
       "      <td>London</td>\n",
       "      <td>Judo</td>\n",
       "      <td>Judo Men's Extra-Lightweight</td>\n",
       "      <td>NaN</td>\n",
       "    </tr>\n",
       "    <tr>\n",
       "      <th>1</th>\n",
       "      <td>16</td>\n",
       "      <td>Juhamatti Tapio Aaltonen</td>\n",
       "      <td>M</td>\n",
       "      <td>28</td>\n",
       "      <td>184.0</td>\n",
       "      <td>85.0</td>\n",
       "      <td>Finland</td>\n",
       "      <td>FIN</td>\n",
       "      <td>2014 Winter</td>\n",
       "      <td>2014</td>\n",
       "      <td>Winter</td>\n",
       "      <td>Sochi</td>\n",
       "      <td>Ice Hockey</td>\n",
       "      <td>Ice Hockey Men's Ice Hockey</td>\n",
       "      <td>Bronze</td>\n",
       "    </tr>\n",
       "    <tr>\n",
       "      <th>2</th>\n",
       "      <td>22</td>\n",
       "      <td>Andreea Aanei</td>\n",
       "      <td>F</td>\n",
       "      <td>22</td>\n",
       "      <td>170.0</td>\n",
       "      <td>125.0</td>\n",
       "      <td>Romania</td>\n",
       "      <td>ROU</td>\n",
       "      <td>2016 Summer</td>\n",
       "      <td>2016</td>\n",
       "      <td>Summer</td>\n",
       "      <td>Rio de Janeiro</td>\n",
       "      <td>Weightlifting</td>\n",
       "      <td>Weightlifting Women's Super-Heavyweight</td>\n",
       "      <td>NaN</td>\n",
       "    </tr>\n",
       "    <tr>\n",
       "      <th>3</th>\n",
       "      <td>34</td>\n",
       "      <td>Jamale (Djamel-) Aarrass (Ahrass-)</td>\n",
       "      <td>M</td>\n",
       "      <td>30</td>\n",
       "      <td>187.0</td>\n",
       "      <td>76.0</td>\n",
       "      <td>France</td>\n",
       "      <td>FRA</td>\n",
       "      <td>2012 Summer</td>\n",
       "      <td>2012</td>\n",
       "      <td>Summer</td>\n",
       "      <td>London</td>\n",
       "      <td>Athletics</td>\n",
       "      <td>Athletics Men's 1,500 metres</td>\n",
       "      <td>NaN</td>\n",
       "    </tr>\n",
       "    <tr>\n",
       "      <th>4</th>\n",
       "      <td>48</td>\n",
       "      <td>Abdelhak Aatakni</td>\n",
       "      <td>M</td>\n",
       "      <td>24</td>\n",
       "      <td>NaN</td>\n",
       "      <td>64.0</td>\n",
       "      <td>Morocco</td>\n",
       "      <td>MAR</td>\n",
       "      <td>2012 Summer</td>\n",
       "      <td>2012</td>\n",
       "      <td>Summer</td>\n",
       "      <td>London</td>\n",
       "      <td>Boxing</td>\n",
       "      <td>Boxing Men's Light-Welterweight</td>\n",
       "      <td>NaN</td>\n",
       "    </tr>\n",
       "  </tbody>\n",
       "</table>\n",
       "</div>"
      ],
      "text/plain": [
       "   ID                                Name Sex  Age  Height  Weight     Team  \\\n",
       "0   2                            A Lamusi   M   23   170.0    60.0    China   \n",
       "1  16            Juhamatti Tapio Aaltonen   M   28   184.0    85.0  Finland   \n",
       "2  22                       Andreea Aanei   F   22   170.0   125.0  Romania   \n",
       "3  34  Jamale (Djamel-) Aarrass (Ahrass-)   M   30   187.0    76.0   France   \n",
       "4  48                    Abdelhak Aatakni   M   24     NaN    64.0  Morocco   \n",
       "\n",
       "   NOC        Games  Year  Season            City          Sport  \\\n",
       "0  CHN  2012 Summer  2012  Summer          London           Judo   \n",
       "1  FIN  2014 Winter  2014  Winter           Sochi     Ice Hockey   \n",
       "2  ROU  2016 Summer  2016  Summer  Rio de Janeiro  Weightlifting   \n",
       "3  FRA  2012 Summer  2012  Summer          London      Athletics   \n",
       "4  MAR  2012 Summer  2012  Summer          London         Boxing   \n",
       "\n",
       "                                     Event   Medal  \n",
       "0             Judo Men's Extra-Lightweight     NaN  \n",
       "1              Ice Hockey Men's Ice Hockey  Bronze  \n",
       "2  Weightlifting Women's Super-Heavyweight     NaN  \n",
       "3             Athletics Men's 1,500 metres     NaN  \n",
       "4          Boxing Men's Light-Welterweight     NaN  "
      ]
     },
     "execution_count": 37,
     "metadata": {},
     "output_type": "execute_result"
    }
   ],
   "source": [
    "mydata.head()"
   ]
  },
  {
   "cell_type": "code",
   "execution_count": 4,
   "id": "9acd9a19",
   "metadata": {},
   "outputs": [
    {
     "data": {
      "text/plain": [
       "35901"
      ]
     },
     "execution_count": 4,
     "metadata": {},
     "output_type": "execute_result"
    }
   ],
   "source": [
    "len(mydata)"
   ]
  },
  {
   "cell_type": "code",
   "execution_count": 5,
   "id": "87ff331a",
   "metadata": {},
   "outputs": [
    {
     "data": {
      "text/plain": [
       "(35901, 15)"
      ]
     },
     "execution_count": 5,
     "metadata": {},
     "output_type": "execute_result"
    }
   ],
   "source": [
    "mydata.shape #to seerows and columns"
   ]
  },
  {
   "cell_type": "code",
   "execution_count": 6,
   "id": "e34d16f2",
   "metadata": {},
   "outputs": [
    {
     "data": {
      "text/plain": [
       "array([nan, 'Bronze', 'Gold', 'Silver'], dtype=object)"
      ]
     },
     "execution_count": 6,
     "metadata": {},
     "output_type": "execute_result"
    }
   ],
   "source": [
    "mydata['Medal'].unique()"
   ]
  },
  {
   "cell_type": "code",
   "execution_count": 7,
   "id": "65e744f0",
   "metadata": {},
   "outputs": [
    {
     "data": {
      "text/plain": [
       "ID            0\n",
       "Name          0\n",
       "Sex           0\n",
       "Age           0\n",
       "Height      366\n",
       "Weight      825\n",
       "Team          0\n",
       "NOC           0\n",
       "Games         0\n",
       "Year          0\n",
       "Season        0\n",
       "City          0\n",
       "Sport         0\n",
       "Event         0\n",
       "Medal     30820\n",
       "dtype: int64"
      ]
     },
     "execution_count": 7,
     "metadata": {},
     "output_type": "execute_result"
    }
   ],
   "source": [
    "mydata.isna().sum() # to check missing cases"
   ]
  },
  {
   "cell_type": "code",
   "execution_count": 9,
   "id": "ee5d51b2",
   "metadata": {},
   "outputs": [
    {
     "data": {
      "text/plain": [
       "825"
      ]
     },
     "execution_count": 9,
     "metadata": {},
     "output_type": "execute_result"
    }
   ],
   "source": [
    "mydata['Weight'].isna().sum()"
   ]
  },
  {
   "cell_type": "code",
   "execution_count": 10,
   "id": "cc6e7f55",
   "metadata": {},
   "outputs": [],
   "source": [
    "#replace missing values with overall mean\n",
    "mydata['Weight']=mydata['Weight'].fillna(mydata['Weight'].mean())"
   ]
  },
  {
   "cell_type": "code",
   "execution_count": 11,
   "id": "ef675a5b",
   "metadata": {},
   "outputs": [
    {
     "data": {
      "text/plain": [
       "0"
      ]
     },
     "execution_count": 11,
     "metadata": {},
     "output_type": "execute_result"
    }
   ],
   "source": [
    "mydata['Weight'].isna().sum()"
   ]
  },
  {
   "cell_type": "code",
   "execution_count": 13,
   "id": "797da402",
   "metadata": {},
   "outputs": [
    {
     "data": {
      "text/plain": [
       "0    70.0\n",
       "Name: Weight, dtype: float64"
      ]
     },
     "execution_count": 13,
     "metadata": {},
     "output_type": "execute_result"
    }
   ],
   "source": [
    "mydata['Weight'].mode()"
   ]
  },
  {
   "cell_type": "code",
   "execution_count": 15,
   "id": "b1af02c6",
   "metadata": {},
   "outputs": [
    {
     "data": {
      "text/plain": [
       "70.0"
      ]
     },
     "execution_count": 15,
     "metadata": {},
     "output_type": "execute_result"
    }
   ],
   "source": [
    "st.mode(mydata['Weight'])"
   ]
  },
  {
   "cell_type": "code",
   "execution_count": 16,
   "id": "45d6bf89",
   "metadata": {},
   "outputs": [],
   "source": [
    "#Replace the missing values based on the average of the groups in categorical variable\n",
    "mydata['Height']=mydata['Height'].fillna(mydata.groupby('Sex')['Height'].transform('mean'))"
   ]
  },
  {
   "cell_type": "code",
   "execution_count": 17,
   "id": "a06bc580",
   "metadata": {},
   "outputs": [
    {
     "data": {
      "text/plain": [
       "0"
      ]
     },
     "execution_count": 17,
     "metadata": {},
     "output_type": "execute_result"
    }
   ],
   "source": [
    "mydata['Height'].isna().sum()"
   ]
  },
  {
   "cell_type": "code",
   "execution_count": 18,
   "id": "c0f733ea",
   "metadata": {},
   "outputs": [],
   "source": [
    "mydata['Medal']=mydata['Medal'].fillna(\"Unknown\")"
   ]
  },
  {
   "cell_type": "code",
   "execution_count": 20,
   "id": "101a4360",
   "metadata": {},
   "outputs": [
    {
     "data": {
      "text/plain": [
       "0"
      ]
     },
     "execution_count": 20,
     "metadata": {},
     "output_type": "execute_result"
    }
   ],
   "source": [
    "mydata['Medal'].isna().sum()"
   ]
  },
  {
   "cell_type": "markdown",
   "id": "01cd21b6",
   "metadata": {},
   "source": [
    "# Replace missing values at once"
   ]
  },
  {
   "cell_type": "code",
   "execution_count": 24,
   "id": "cfd68b3e",
   "metadata": {},
   "outputs": [],
   "source": [
    "#Replace all numeric with overall mean\n",
    "#since we are replacing only numeric data we don't have to say each variable name and can use below function.\n",
    "mydata.fillna(mydata.mean(numeric_only=True).round(1), inplace=True)"
   ]
  },
  {
   "cell_type": "code",
   "execution_count": 23,
   "id": "fe5cd5fa",
   "metadata": {},
   "outputs": [
    {
     "data": {
      "text/plain": [
       "ID        0\n",
       "Name      0\n",
       "Sex       0\n",
       "Age       0\n",
       "Height    0\n",
       "Weight    0\n",
       "Team      0\n",
       "NOC       0\n",
       "Games     0\n",
       "Year      0\n",
       "Season    0\n",
       "City      0\n",
       "Sport     0\n",
       "Event     0\n",
       "Medal     0\n",
       "dtype: int64"
      ]
     },
     "execution_count": 23,
     "metadata": {},
     "output_type": "execute_result"
    }
   ],
   "source": [
    "mydata.isna().sum()"
   ]
  },
  {
   "cell_type": "code",
   "execution_count": 27,
   "id": "139f8da9",
   "metadata": {},
   "outputs": [],
   "source": [
    "fill_values={'Weight': mydata['Weight'].mean().round(1), 'Height':st.mode(mydata['Height']), 'Medal': \"Unknown\"}"
   ]
  },
  {
   "cell_type": "code",
   "execution_count": 28,
   "id": "3f835c03",
   "metadata": {},
   "outputs": [],
   "source": [
    "mydata=mydata.fillna(fill_values)"
   ]
  },
  {
   "cell_type": "code",
   "execution_count": 29,
   "id": "0c7b6502",
   "metadata": {},
   "outputs": [
    {
     "data": {
      "text/plain": [
       "ID        0\n",
       "Name      0\n",
       "Sex       0\n",
       "Age       0\n",
       "Height    0\n",
       "Weight    0\n",
       "Team      0\n",
       "NOC       0\n",
       "Games     0\n",
       "Year      0\n",
       "Season    0\n",
       "City      0\n",
       "Sport     0\n",
       "Event     0\n",
       "Medal     0\n",
       "dtype: int64"
      ]
     },
     "execution_count": 29,
     "metadata": {},
     "output_type": "execute_result"
    }
   ],
   "source": [
    "mydata.isna().sum()"
   ]
  },
  {
   "cell_type": "code",
   "execution_count": 30,
   "id": "71aa31fd",
   "metadata": {},
   "outputs": [],
   "source": [
    "categorical_columns=[\"Sex\", \"Medal\"]\n",
    "mydata[categorical_columns]=mydata[categorical_columns].fillna(\"Unknown\")"
   ]
  },
  {
   "cell_type": "code",
   "execution_count": 31,
   "id": "8b8a73ba",
   "metadata": {},
   "outputs": [
    {
     "data": {
      "text/plain": [
       "ID        0\n",
       "Name      0\n",
       "Sex       0\n",
       "Age       0\n",
       "Height    0\n",
       "Weight    0\n",
       "Team      0\n",
       "NOC       0\n",
       "Games     0\n",
       "Year      0\n",
       "Season    0\n",
       "City      0\n",
       "Sport     0\n",
       "Event     0\n",
       "Medal     0\n",
       "dtype: int64"
      ]
     },
     "execution_count": 31,
     "metadata": {},
     "output_type": "execute_result"
    }
   ],
   "source": [
    "mydata.isna().sum()"
   ]
  },
  {
   "cell_type": "code",
   "execution_count": 32,
   "id": "0ca61c5d",
   "metadata": {},
   "outputs": [],
   "source": [
    "#Observation with Height >=190\n",
    "mydata=mydata[mydata['Height']>=190]"
   ]
  },
  {
   "cell_type": "code",
   "execution_count": 33,
   "id": "dcb422e5",
   "metadata": {},
   "outputs": [
    {
     "data": {
      "text/html": [
       "<div>\n",
       "<style scoped>\n",
       "    .dataframe tbody tr th:only-of-type {\n",
       "        vertical-align: middle;\n",
       "    }\n",
       "\n",
       "    .dataframe tbody tr th {\n",
       "        vertical-align: top;\n",
       "    }\n",
       "\n",
       "    .dataframe thead th {\n",
       "        text-align: right;\n",
       "    }\n",
       "</style>\n",
       "<table border=\"1\" class=\"dataframe\">\n",
       "  <thead>\n",
       "    <tr style=\"text-align: right;\">\n",
       "      <th></th>\n",
       "      <th>ID</th>\n",
       "      <th>Name</th>\n",
       "      <th>Sex</th>\n",
       "      <th>Age</th>\n",
       "      <th>Height</th>\n",
       "      <th>Weight</th>\n",
       "      <th>Team</th>\n",
       "      <th>NOC</th>\n",
       "      <th>Games</th>\n",
       "      <th>Year</th>\n",
       "      <th>Season</th>\n",
       "      <th>City</th>\n",
       "      <th>Sport</th>\n",
       "      <th>Event</th>\n",
       "      <th>Medal</th>\n",
       "    </tr>\n",
       "  </thead>\n",
       "  <tbody>\n",
       "    <tr>\n",
       "      <th>12</th>\n",
       "      <td>62</td>\n",
       "      <td>Giovanni Abagnale</td>\n",
       "      <td>M</td>\n",
       "      <td>21</td>\n",
       "      <td>198.0</td>\n",
       "      <td>90.0</td>\n",
       "      <td>Italy</td>\n",
       "      <td>ITA</td>\n",
       "      <td>2016 Summer</td>\n",
       "      <td>2016</td>\n",
       "      <td>Summer</td>\n",
       "      <td>Rio de Janeiro</td>\n",
       "      <td>Rowing</td>\n",
       "      <td>Rowing Men's Coxless Pairs</td>\n",
       "      <td>Bronze</td>\n",
       "    </tr>\n",
       "    <tr>\n",
       "      <th>18</th>\n",
       "      <td>91</td>\n",
       "      <td>Emanuele Abate</td>\n",
       "      <td>M</td>\n",
       "      <td>27</td>\n",
       "      <td>190.0</td>\n",
       "      <td>80.0</td>\n",
       "      <td>Italy</td>\n",
       "      <td>ITA</td>\n",
       "      <td>2012 Summer</td>\n",
       "      <td>2012</td>\n",
       "      <td>Summer</td>\n",
       "      <td>London</td>\n",
       "      <td>Athletics</td>\n",
       "      <td>Athletics Men's 110 metres Hurdles</td>\n",
       "      <td>Unknown</td>\n",
       "    </tr>\n",
       "    <tr>\n",
       "      <th>38</th>\n",
       "      <td>161</td>\n",
       "      <td>Hossam Abdalla</td>\n",
       "      <td>M</td>\n",
       "      <td>28</td>\n",
       "      <td>203.0</td>\n",
       "      <td>97.0</td>\n",
       "      <td>Egypt</td>\n",
       "      <td>EGY</td>\n",
       "      <td>2016 Summer</td>\n",
       "      <td>2016</td>\n",
       "      <td>Summer</td>\n",
       "      <td>Rio de Janeiro</td>\n",
       "      <td>Volleyball</td>\n",
       "      <td>Volleyball Men's Volleyball</td>\n",
       "      <td>Unknown</td>\n",
       "    </tr>\n",
       "    <tr>\n",
       "      <th>40</th>\n",
       "      <td>203</td>\n",
       "      <td>Ahmed Abdel Naeim</td>\n",
       "      <td>M</td>\n",
       "      <td>31</td>\n",
       "      <td>197.0</td>\n",
       "      <td>87.0</td>\n",
       "      <td>Egypt</td>\n",
       "      <td>EGY</td>\n",
       "      <td>2016 Summer</td>\n",
       "      <td>2016</td>\n",
       "      <td>Summer</td>\n",
       "      <td>Rio de Janeiro</td>\n",
       "      <td>Volleyball</td>\n",
       "      <td>Volleyball Men's Volleyball</td>\n",
       "      <td>Unknown</td>\n",
       "    </tr>\n",
       "    <tr>\n",
       "      <th>55</th>\n",
       "      <td>243</td>\n",
       "      <td>Ihab Abdelrahman El-Sayed Abdelrahman</td>\n",
       "      <td>M</td>\n",
       "      <td>23</td>\n",
       "      <td>194.0</td>\n",
       "      <td>96.0</td>\n",
       "      <td>Egypt</td>\n",
       "      <td>EGY</td>\n",
       "      <td>2012 Summer</td>\n",
       "      <td>2012</td>\n",
       "      <td>Summer</td>\n",
       "      <td>London</td>\n",
       "      <td>Athletics</td>\n",
       "      <td>Athletics Men's Javelin Throw</td>\n",
       "      <td>Unknown</td>\n",
       "    </tr>\n",
       "  </tbody>\n",
       "</table>\n",
       "</div>"
      ],
      "text/plain": [
       "     ID                                   Name Sex  Age  Height  Weight  \\\n",
       "12   62                      Giovanni Abagnale   M   21   198.0    90.0   \n",
       "18   91                         Emanuele Abate   M   27   190.0    80.0   \n",
       "38  161                         Hossam Abdalla   M   28   203.0    97.0   \n",
       "40  203                      Ahmed Abdel Naeim   M   31   197.0    87.0   \n",
       "55  243  Ihab Abdelrahman El-Sayed Abdelrahman   M   23   194.0    96.0   \n",
       "\n",
       "     Team  NOC        Games  Year  Season            City       Sport  \\\n",
       "12  Italy  ITA  2016 Summer  2016  Summer  Rio de Janeiro      Rowing   \n",
       "18  Italy  ITA  2012 Summer  2012  Summer          London   Athletics   \n",
       "38  Egypt  EGY  2016 Summer  2016  Summer  Rio de Janeiro  Volleyball   \n",
       "40  Egypt  EGY  2016 Summer  2016  Summer  Rio de Janeiro  Volleyball   \n",
       "55  Egypt  EGY  2012 Summer  2012  Summer          London   Athletics   \n",
       "\n",
       "                                 Event    Medal  \n",
       "12          Rowing Men's Coxless Pairs   Bronze  \n",
       "18  Athletics Men's 110 metres Hurdles  Unknown  \n",
       "38         Volleyball Men's Volleyball  Unknown  \n",
       "40         Volleyball Men's Volleyball  Unknown  \n",
       "55       Athletics Men's Javelin Throw  Unknown  "
      ]
     },
     "execution_count": 33,
     "metadata": {},
     "output_type": "execute_result"
    }
   ],
   "source": [
    "mydata.head()"
   ]
  },
  {
   "cell_type": "code",
   "execution_count": 34,
   "id": "d5229c15",
   "metadata": {},
   "outputs": [
    {
     "data": {
      "text/plain": [
       "190.0"
      ]
     },
     "execution_count": 34,
     "metadata": {},
     "output_type": "execute_result"
    }
   ],
   "source": [
    "mydata['Height'].min()"
   ]
  },
  {
   "cell_type": "code",
   "execution_count": 35,
   "id": "159360be",
   "metadata": {},
   "outputs": [
    {
     "data": {
      "text/plain": [
       "3870"
      ]
     },
     "execution_count": 35,
     "metadata": {},
     "output_type": "execute_result"
    }
   ],
   "source": [
    "len(mydata)"
   ]
  },
  {
   "cell_type": "code",
   "execution_count": 38,
   "id": "b66e8de4",
   "metadata": {},
   "outputs": [],
   "source": [
    "#applying condition to filter the data by height and sex\n",
    "\n",
    "mydata2=mydata[(mydata['Height']>=190)&(mydata['Sex']=='F')]"
   ]
  },
  {
   "cell_type": "code",
   "execution_count": 39,
   "id": "8f1b7fab",
   "metadata": {},
   "outputs": [
    {
     "data": {
      "text/plain": [
       "209"
      ]
     },
     "execution_count": 39,
     "metadata": {},
     "output_type": "execute_result"
    }
   ],
   "source": [
    "len(mydata2)"
   ]
  },
  {
   "cell_type": "code",
   "execution_count": 40,
   "id": "0754802b",
   "metadata": {},
   "outputs": [],
   "source": [
    "#second way to filter out condition by height and sex\n",
    "\n",
    "conditions=(mydata['Height']>=190)&(mydata['Sex']=='F')\n",
    "mydata3=mydata[conditions]"
   ]
  },
  {
   "cell_type": "code",
   "execution_count": 41,
   "id": "18632a42",
   "metadata": {},
   "outputs": [
    {
     "data": {
      "text/plain": [
       "209"
      ]
     },
     "execution_count": 41,
     "metadata": {},
     "output_type": "execute_result"
    }
   ],
   "source": [
    "len(mydata2)"
   ]
  },
  {
   "cell_type": "markdown",
   "id": "ca8afd2a",
   "metadata": {},
   "source": [
    "# Deleting columns"
   ]
  },
  {
   "cell_type": "code",
   "execution_count": 42,
   "id": "9f4d77df",
   "metadata": {},
   "outputs": [],
   "source": [
    "#deleting columns\n",
    "\n",
    "del mydata['ID'] "
   ]
  },
  {
   "cell_type": "code",
   "execution_count": 43,
   "id": "62f2c02e",
   "metadata": {},
   "outputs": [
    {
     "data": {
      "text/html": [
       "<div>\n",
       "<style scoped>\n",
       "    .dataframe tbody tr th:only-of-type {\n",
       "        vertical-align: middle;\n",
       "    }\n",
       "\n",
       "    .dataframe tbody tr th {\n",
       "        vertical-align: top;\n",
       "    }\n",
       "\n",
       "    .dataframe thead th {\n",
       "        text-align: right;\n",
       "    }\n",
       "</style>\n",
       "<table border=\"1\" class=\"dataframe\">\n",
       "  <thead>\n",
       "    <tr style=\"text-align: right;\">\n",
       "      <th></th>\n",
       "      <th>Name</th>\n",
       "      <th>Sex</th>\n",
       "      <th>Age</th>\n",
       "      <th>Height</th>\n",
       "      <th>Weight</th>\n",
       "      <th>Team</th>\n",
       "      <th>NOC</th>\n",
       "      <th>Games</th>\n",
       "      <th>Year</th>\n",
       "      <th>Season</th>\n",
       "      <th>City</th>\n",
       "      <th>Sport</th>\n",
       "      <th>Event</th>\n",
       "      <th>Medal</th>\n",
       "    </tr>\n",
       "  </thead>\n",
       "  <tbody>\n",
       "    <tr>\n",
       "      <th>0</th>\n",
       "      <td>A Lamusi</td>\n",
       "      <td>M</td>\n",
       "      <td>23</td>\n",
       "      <td>170.0</td>\n",
       "      <td>60.0</td>\n",
       "      <td>China</td>\n",
       "      <td>CHN</td>\n",
       "      <td>2012 Summer</td>\n",
       "      <td>2012</td>\n",
       "      <td>Summer</td>\n",
       "      <td>London</td>\n",
       "      <td>Judo</td>\n",
       "      <td>Judo Men's Extra-Lightweight</td>\n",
       "      <td>NaN</td>\n",
       "    </tr>\n",
       "    <tr>\n",
       "      <th>1</th>\n",
       "      <td>Juhamatti Tapio Aaltonen</td>\n",
       "      <td>M</td>\n",
       "      <td>28</td>\n",
       "      <td>184.0</td>\n",
       "      <td>85.0</td>\n",
       "      <td>Finland</td>\n",
       "      <td>FIN</td>\n",
       "      <td>2014 Winter</td>\n",
       "      <td>2014</td>\n",
       "      <td>Winter</td>\n",
       "      <td>Sochi</td>\n",
       "      <td>Ice Hockey</td>\n",
       "      <td>Ice Hockey Men's Ice Hockey</td>\n",
       "      <td>Bronze</td>\n",
       "    </tr>\n",
       "    <tr>\n",
       "      <th>2</th>\n",
       "      <td>Andreea Aanei</td>\n",
       "      <td>F</td>\n",
       "      <td>22</td>\n",
       "      <td>170.0</td>\n",
       "      <td>125.0</td>\n",
       "      <td>Romania</td>\n",
       "      <td>ROU</td>\n",
       "      <td>2016 Summer</td>\n",
       "      <td>2016</td>\n",
       "      <td>Summer</td>\n",
       "      <td>Rio de Janeiro</td>\n",
       "      <td>Weightlifting</td>\n",
       "      <td>Weightlifting Women's Super-Heavyweight</td>\n",
       "      <td>NaN</td>\n",
       "    </tr>\n",
       "    <tr>\n",
       "      <th>3</th>\n",
       "      <td>Jamale (Djamel-) Aarrass (Ahrass-)</td>\n",
       "      <td>M</td>\n",
       "      <td>30</td>\n",
       "      <td>187.0</td>\n",
       "      <td>76.0</td>\n",
       "      <td>France</td>\n",
       "      <td>FRA</td>\n",
       "      <td>2012 Summer</td>\n",
       "      <td>2012</td>\n",
       "      <td>Summer</td>\n",
       "      <td>London</td>\n",
       "      <td>Athletics</td>\n",
       "      <td>Athletics Men's 1,500 metres</td>\n",
       "      <td>NaN</td>\n",
       "    </tr>\n",
       "    <tr>\n",
       "      <th>4</th>\n",
       "      <td>Abdelhak Aatakni</td>\n",
       "      <td>M</td>\n",
       "      <td>24</td>\n",
       "      <td>NaN</td>\n",
       "      <td>64.0</td>\n",
       "      <td>Morocco</td>\n",
       "      <td>MAR</td>\n",
       "      <td>2012 Summer</td>\n",
       "      <td>2012</td>\n",
       "      <td>Summer</td>\n",
       "      <td>London</td>\n",
       "      <td>Boxing</td>\n",
       "      <td>Boxing Men's Light-Welterweight</td>\n",
       "      <td>NaN</td>\n",
       "    </tr>\n",
       "  </tbody>\n",
       "</table>\n",
       "</div>"
      ],
      "text/plain": [
       "                                 Name Sex  Age  Height  Weight     Team  NOC  \\\n",
       "0                            A Lamusi   M   23   170.0    60.0    China  CHN   \n",
       "1            Juhamatti Tapio Aaltonen   M   28   184.0    85.0  Finland  FIN   \n",
       "2                       Andreea Aanei   F   22   170.0   125.0  Romania  ROU   \n",
       "3  Jamale (Djamel-) Aarrass (Ahrass-)   M   30   187.0    76.0   France  FRA   \n",
       "4                    Abdelhak Aatakni   M   24     NaN    64.0  Morocco  MAR   \n",
       "\n",
       "         Games  Year  Season            City          Sport  \\\n",
       "0  2012 Summer  2012  Summer          London           Judo   \n",
       "1  2014 Winter  2014  Winter           Sochi     Ice Hockey   \n",
       "2  2016 Summer  2016  Summer  Rio de Janeiro  Weightlifting   \n",
       "3  2012 Summer  2012  Summer          London      Athletics   \n",
       "4  2012 Summer  2012  Summer          London         Boxing   \n",
       "\n",
       "                                     Event   Medal  \n",
       "0             Judo Men's Extra-Lightweight     NaN  \n",
       "1              Ice Hockey Men's Ice Hockey  Bronze  \n",
       "2  Weightlifting Women's Super-Heavyweight     NaN  \n",
       "3             Athletics Men's 1,500 metres     NaN  \n",
       "4          Boxing Men's Light-Welterweight     NaN  "
      ]
     },
     "execution_count": 43,
     "metadata": {},
     "output_type": "execute_result"
    }
   ],
   "source": [
    "mydata.head()"
   ]
  },
  {
   "cell_type": "code",
   "execution_count": 44,
   "id": "276b1b72",
   "metadata": {},
   "outputs": [
    {
     "data": {
      "text/plain": [
       "Index(['Name', 'Sex', 'Age', 'Height', 'Weight', 'Team', 'NOC', 'Games',\n",
       "       'Year', 'Season', 'City', 'Sport', 'Event', 'Medal'],\n",
       "      dtype='object')"
      ]
     },
     "execution_count": 44,
     "metadata": {},
     "output_type": "execute_result"
    }
   ],
   "source": [
    "mydata.columns"
   ]
  },
  {
   "cell_type": "code",
   "execution_count": 50,
   "id": "cde72697",
   "metadata": {},
   "outputs": [],
   "source": [
    "#dropping columns Name and NOC\n",
    "mydata=mydata.drop(columns=[\"Name\", \"NOC\"])"
   ]
  },
  {
   "cell_type": "code",
   "execution_count": 46,
   "id": "cef11ec7",
   "metadata": {},
   "outputs": [],
   "source": [
    "#adding a new column to the dataframe\n",
    "mydata['Weight.lb']=mydata['Weight']*2.2"
   ]
  },
  {
   "cell_type": "code",
   "execution_count": null,
   "id": "4000b67b",
   "metadata": {},
   "outputs": [],
   "source": [
    "mydata.head()"
   ]
  },
  {
   "cell_type": "code",
   "execution_count": 52,
   "id": "258e8a51",
   "metadata": {},
   "outputs": [],
   "source": [
    "mydata.to_excel(\"newOlympics.xlsx\", index=False) #index is the id given my python which starts with 0"
   ]
  },
  {
   "cell_type": "code",
   "execution_count": null,
   "id": "cd1b965d",
   "metadata": {},
   "outputs": [],
   "source": [
    "n=input(\"Enter a number\")"
   ]
  },
  {
   "cell_type": "code",
   "execution_count": null,
   "id": "7d4376d7",
   "metadata": {},
   "outputs": [],
   "source": [
    "print(\"the number entered is: \", n)"
   ]
  },
  {
   "cell_type": "code",
   "execution_count": null,
   "id": "7dea4522",
   "metadata": {},
   "outputs": [],
   "source": []
  }
 ],
 "metadata": {
  "kernelspec": {
   "display_name": "Python 3 (ipykernel)",
   "language": "python",
   "name": "python3"
  },
  "language_info": {
   "codemirror_mode": {
    "name": "ipython",
    "version": 3
   },
   "file_extension": ".py",
   "mimetype": "text/x-python",
   "name": "python",
   "nbconvert_exporter": "python",
   "pygments_lexer": "ipython3",
   "version": "3.11.5"
  }
 },
 "nbformat": 4,
 "nbformat_minor": 5
}
